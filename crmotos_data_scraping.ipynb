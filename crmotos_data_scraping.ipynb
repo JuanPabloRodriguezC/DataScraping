{
 "cells": [
  {
   "cell_type": "markdown",
   "metadata": {},
   "source": [
    "### Imports"
   ]
  },
  {
   "cell_type": "code",
   "execution_count": 1,
   "metadata": {},
   "outputs": [],
   "source": [
    "from bs4 import BeautifulSoup\n",
    "import requests\n",
    "import pandas as pd "
   ]
  },
  {
   "cell_type": "markdown",
   "metadata": {},
   "source": [
    "### Target necessary data"
   ]
  },
  {
   "cell_type": "markdown",
   "metadata": {},
   "source": [
    "#### Data Cleaning"
   ]
  },
  {
   "cell_type": "markdown",
   "metadata": {},
   "source": [
    "### Output in Excel"
   ]
  },
  {
   "cell_type": "code",
   "execution_count": 38,
   "metadata": {},
   "outputs": [],
   "source": [
    "car_dealer.to_excel('car_dealer_single_page.xlsx', index=False)"
   ]
  },
  {
   "cell_type": "code",
   "execution_count": 84,
   "metadata": {},
   "outputs": [],
   "source": [
    "name = []\n",
    "price = []"
   ]
  },
  {
   "cell_type": "code",
   "execution_count": 85,
   "metadata": {},
   "outputs": [],
   "source": [
    "for i in range (1,29):\n",
    "    \n",
    "    # website in variable\n",
    "    website = 'https://crmotos.com/usados2/motos/search-results/index'+ str(i) +'.html' \n",
    "    \n",
    "    # request to website\n",
    "    response = requests.get(website)\n",
    "\n",
    "    # soup object\n",
    "    soup = BeautifulSoup(response.content, 'html.parser')\n",
    "    \n",
    "    # results\n",
    "    results = soup.find_all('div', {'class' : 'main-column'})\n",
    "    \n",
    "    # loop through results\n",
    "    for result in results:\n",
    "    \n",
    "        # name\n",
    "        try:\n",
    "            name.append(result.find('li', {'class':'title'}).get_text().strip()) \n",
    "        except:\n",
    "            name.append('n/a')\n",
    "\n",
    "        #price \n",
    "        try:\n",
    "            price.append(result.find('li', {'class':'system'}).get_text().strip())\n",
    "        except:\n",
    "            price.append('n/a')"
   ]
  },
  {
   "cell_type": "code",
   "execution_count": 86,
   "metadata": {},
   "outputs": [],
   "source": [
    "# dictionary\n",
    "car_dealer = pd.DataFrame({'Name': name,'Price': price})"
   ]
  },
  {
   "cell_type": "code",
   "execution_count": 88,
   "metadata": {},
   "outputs": [],
   "source": [
    "def find_outliers(data):\n",
    "    lista = car_dealer['Name'].str.split(', ')\n",
    "    for i in lista:\n",
    "        if len(i) != 3:\n",
    "            print(\"found outlier\")\n",
    "            string = ', '.join(i)\n",
    "            print(string)\n",
    "            idx = data[data['Name']== string].index\n",
    "            print(idx)\n",
    "            data.drop(idx, inplace=True)\n",
    "        "
   ]
  },
  {
   "cell_type": "code",
   "execution_count": 89,
   "metadata": {},
   "outputs": [
    {
     "name": "stdout",
     "output_type": "stream",
     "text": [
      "found outlier\n",
      "Polaris, 2008\n",
      "Int64Index([166], dtype='int64')\n",
      "found outlier\n",
      "Husqvarna, 300 TPi, 2 Tiempos, 2019\n",
      "Int64Index([168], dtype='int64')\n",
      "found outlier\n",
      "Katana, 2021\n",
      "Int64Index([181], dtype='int64')\n"
     ]
    }
   ],
   "source": [
    "find_outliers(car_dealer)"
   ]
  },
  {
   "cell_type": "code",
   "execution_count": 90,
   "metadata": {},
   "outputs": [],
   "source": [
    "car_dealer[['marca', 'modelo', 'año']] = car_dealer['Name'].str.split(', ', expand=True)"
   ]
  },
  {
   "cell_type": "code",
   "execution_count": 92,
   "metadata": {},
   "outputs": [
    {
     "data": {
      "text/html": [
       "<div>\n",
       "<style scoped>\n",
       "    .dataframe tbody tr th:only-of-type {\n",
       "        vertical-align: middle;\n",
       "    }\n",
       "\n",
       "    .dataframe tbody tr th {\n",
       "        vertical-align: top;\n",
       "    }\n",
       "\n",
       "    .dataframe thead th {\n",
       "        text-align: right;\n",
       "    }\n",
       "</style>\n",
       "<table border=\"1\" class=\"dataframe\">\n",
       "  <thead>\n",
       "    <tr style=\"text-align: right;\">\n",
       "      <th></th>\n",
       "      <th>Price</th>\n",
       "      <th>marca</th>\n",
       "      <th>modelo</th>\n",
       "      <th>año</th>\n",
       "    </tr>\n",
       "  </thead>\n",
       "  <tbody>\n",
       "    <tr>\n",
       "      <th>0</th>\n",
       "      <td>₡ 850,000</td>\n",
       "      <td>Suzuki</td>\n",
       "      <td>Gixxer</td>\n",
       "      <td>2016</td>\n",
       "    </tr>\n",
       "    <tr>\n",
       "      <th>1</th>\n",
       "      <td>$ 10,950</td>\n",
       "      <td>BMW</td>\n",
       "      <td>F 750GS</td>\n",
       "      <td>2020</td>\n",
       "    </tr>\n",
       "    <tr>\n",
       "      <th>2</th>\n",
       "      <td>₡ 16,500,000</td>\n",
       "      <td>Honda</td>\n",
       "      <td>Talon</td>\n",
       "      <td>2021</td>\n",
       "    </tr>\n",
       "    <tr>\n",
       "      <th>3</th>\n",
       "      <td>$ 7,500</td>\n",
       "      <td>KTM</td>\n",
       "      <td>390 Adventure</td>\n",
       "      <td>2022</td>\n",
       "    </tr>\n",
       "    <tr>\n",
       "      <th>4</th>\n",
       "      <td>₡ 3,000,000</td>\n",
       "      <td>Suzuki</td>\n",
       "      <td>Vstrom 1000</td>\n",
       "      <td>2005</td>\n",
       "    </tr>\n",
       "    <tr>\n",
       "      <th>...</th>\n",
       "      <td>...</td>\n",
       "      <td>...</td>\n",
       "      <td>...</td>\n",
       "      <td>...</td>\n",
       "    </tr>\n",
       "    <tr>\n",
       "      <th>443</th>\n",
       "      <td>₡ 4,000,000</td>\n",
       "      <td>Honda</td>\n",
       "      <td>VTX1300s</td>\n",
       "      <td>2003</td>\n",
       "    </tr>\n",
       "    <tr>\n",
       "      <th>444</th>\n",
       "      <td>₡ 5,500,000</td>\n",
       "      <td>Harley-Davidson</td>\n",
       "      <td>Dyna Low Rider</td>\n",
       "      <td>2004</td>\n",
       "    </tr>\n",
       "    <tr>\n",
       "      <th>445</th>\n",
       "      <td>₡ 5,800,000</td>\n",
       "      <td>Harley-Davidson</td>\n",
       "      <td>Dyna Super Glide</td>\n",
       "      <td>2006</td>\n",
       "    </tr>\n",
       "    <tr>\n",
       "      <th>446</th>\n",
       "      <td>₡ 4,000,000</td>\n",
       "      <td>Harley-Davidson</td>\n",
       "      <td>Dyna Low Rider</td>\n",
       "      <td>2001</td>\n",
       "    </tr>\n",
       "    <tr>\n",
       "      <th>447</th>\n",
       "      <td>₡ 5,500,000</td>\n",
       "      <td>Harley-Davidson</td>\n",
       "      <td>Softail Deuce</td>\n",
       "      <td>2003</td>\n",
       "    </tr>\n",
       "  </tbody>\n",
       "</table>\n",
       "<p>445 rows × 4 columns</p>\n",
       "</div>"
      ],
      "text/plain": [
       "            Price            marca              modelo   año\n",
       "0       ₡ 850,000           Suzuki              Gixxer  2016\n",
       "1        $ 10,950              BMW             F 750GS  2020\n",
       "2    ₡ 16,500,000            Honda               Talon  2021\n",
       "3         $ 7,500              KTM       390 Adventure  2022\n",
       "4     ₡ 3,000,000           Suzuki         Vstrom 1000  2005\n",
       "..            ...              ...                 ...   ...\n",
       "443   ₡ 4,000,000            Honda           VTX1300s   2003\n",
       "444   ₡ 5,500,000  Harley-Davidson     Dyna Low Rider   2004\n",
       "445   ₡ 5,800,000  Harley-Davidson   Dyna Super Glide   2006\n",
       "446   ₡ 4,000,000  Harley-Davidson     Dyna Low Rider   2001\n",
       "447   ₡ 5,500,000  Harley-Davidson       Softail Deuce  2003\n",
       "\n",
       "[445 rows x 4 columns]"
      ]
     },
     "execution_count": 92,
     "metadata": {},
     "output_type": "execute_result"
    }
   ],
   "source": [
    "car_dealer.drop('Name', axis=1, inplace=True)\n",
    "car_dealer"
   ]
  },
  {
   "cell_type": "code",
   "execution_count": 96,
   "metadata": {},
   "outputs": [
    {
     "data": {
      "text/plain": [
       "Hornet                             4\n",
       "Adventure                          3\n",
       "Maverick XRS                       3\n",
       "Vstrom                             3\n",
       "Monster 821                        2\n",
       "                                  ..\n",
       "DUKE                               1\n",
       "Wr                                 1\n",
       "Heritage Softail 1450 Inyección    1\n",
       "XRE                                1\n",
       "Softail Deuce                      1\n",
       "Name: modelo, Length: 402, dtype: int64"
      ]
     },
     "execution_count": 96,
     "metadata": {},
     "output_type": "execute_result"
    }
   ],
   "source": [
    "car_dealer['modelo'].value_counts()"
   ]
  },
  {
   "cell_type": "code",
   "execution_count": 102,
   "metadata": {},
   "outputs": [],
   "source": [
    "car_dealer.modelo = car_dealer.modelo.apply(lambda mod: mod.replace(\" \", \"\"))"
   ]
  },
  {
   "cell_type": "code",
   "execution_count": null,
   "metadata": {},
   "outputs": [],
   "source": [
    "car_dealer.modelo = car_dealer.modelo.str.upper()"
   ]
  },
  {
   "cell_type": "code",
   "execution_count": 103,
   "metadata": {},
   "outputs": [],
   "source": [
    "bmw = car_dealer[car_dealer['marca']=='BMW']"
   ]
  },
  {
   "cell_type": "code",
   "execution_count": 104,
   "metadata": {},
   "outputs": [
    {
     "data": {
      "text/plain": [
       "r1250gsadventure         4\n",
       "f700gs                   4\n",
       "g310r                    3\n",
       "f750gs                   2\n",
       "g310gs                   2\n",
       "r1200gs                  2\n",
       "310gs                    2\n",
       "gs                       2\n",
       "s1000r                   2\n",
       "f800gsadventure          1\n",
       "gs1200rallye             1\n",
       "rninet                   1\n",
       "310r                     1\n",
       "c400gt                   1\n",
       "r1250gsa                 1\n",
       "bmw1000boxerrepuestos    1\n",
       "hpngxr                   1\n",
       "gs650                    1\n",
       "f850gs                   1\n",
       "gsf700                   1\n",
       "bmwr1250gsa              1\n",
       "r1200gstripleblak        1\n",
       "f850gsfull               1\n",
       "gs1100                   1\n",
       "r1200gsrally             1\n",
       "r100/7                   1\n",
       "gs310                    1\n",
       "r1200gsrallyfull         1\n",
       "comprademotos            1\n",
       "Name: modelo, dtype: int64"
      ]
     },
     "execution_count": 104,
     "metadata": {},
     "output_type": "execute_result"
    }
   ],
   "source": [
    "bmw.modelo.value_counts()"
   ]
  },
  {
   "cell_type": "code",
   "execution_count": null,
   "metadata": {},
   "outputs": [],
   "source": []
  }
 ],
 "metadata": {
  "kernelspec": {
   "display_name": "Python 3 (ipykernel)",
   "language": "python",
   "name": "python3"
  },
  "language_info": {
   "codemirror_mode": {
    "name": "ipython",
    "version": 3
   },
   "file_extension": ".py",
   "mimetype": "text/x-python",
   "name": "python",
   "nbconvert_exporter": "python",
   "pygments_lexer": "ipython3",
   "version": "3.9.13"
  }
 },
 "nbformat": 4,
 "nbformat_minor": 4
}
